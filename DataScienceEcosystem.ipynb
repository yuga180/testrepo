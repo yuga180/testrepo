{
  "metadata": {
    "language_info": {
      "codemirror_mode": {
        "name": "python",
        "version": 3
      },
      "file_extension": ".py",
      "mimetype": "text/x-python",
      "name": "python",
      "nbconvert_exporter": "python",
      "pygments_lexer": "ipython3",
      "version": "3.8"
    },
    "kernelspec": {
      "name": "python",
      "display_name": "Pyolite",
      "language": "python"
    }
  },
  "nbformat_minor": 4,
  "nbformat": 4,
  "cells": [
    {
      "cell_type": "markdown",
      "source": "##  Author\n  Yugandhara Prabhale",
      "metadata": {}
    },
    {
      "cell_type": "markdown",
      "source": "# Data Science Tools and Ecosystem\n##  Data Scinece Tools and Ecosystem\n###   Data Science Tools and Ecosystem\n####    Data Science Tools and Ecosystem",
      "metadata": {}
    },
    {
      "cell_type": "markdown",
      "source": "# In this Notebook Data Science Tools and Ecosystem are Summerized",
      "metadata": {}
    },
    {
      "cell_type": "markdown",
      "source": "# Some of the popular languages that Data Sceintists used are:\n-1 R\n\n-2 Python\n\n-3 Julia\n\n-4 Java\n\n-5 C++",
      "metadata": {}
    },
    {
      "cell_type": "markdown",
      "source": "# Some of the commonly used libraries used by Data Scientists include:\n \n -1 Scipy\n \n -2 Keras\n \n -3 Matplotlib\n \n -4 Scikit learn",
      "metadata": {}
    },
    {
      "cell_type": "markdown",
      "source": "| Data Science Tools |\n|--------------------|\n| MySQL |\n| ApacheCloud DB |\n| Apachecassendra |",
      "metadata": {}
    },
    {
      "cell_type": "markdown",
      "source": "###   Below are a few examples of evaluating arithmetic expressions in python",
      "metadata": {}
    },
    {
      "cell_type": "code",
      "source": "(3*4)+5",
      "metadata": {
        "trusted": true
      },
      "execution_count": 12,
      "outputs": [
        {
          "execution_count": 12,
          "output_type": "execute_result",
          "data": {
            "text/plain": "17"
          },
          "metadata": {}
        }
      ]
    },
    {
      "cell_type": "code",
      "source": "# This will convert 200 minutes into hours by divided by 60\n200/60\n",
      "metadata": {
        "trusted": true
      },
      "execution_count": 13,
      "outputs": [
        {
          "execution_count": 13,
          "output_type": "execute_result",
          "data": {
            "text/plain": "3.3333333333333335"
          },
          "metadata": {}
        }
      ]
    },
    {
      "cell_type": "markdown",
      "source": "# *** Objectives\n\n-1.List of popular languages in Data science\n\n-2.List of Data Science Tools\n\n-3.List of libraries used in Data science",
      "metadata": {}
    },
    {
      "cell_type": "markdown",
      "source": "## Author\n\nYugandhara Prabhale",
      "metadata": {}
    },
    {
      "cell_type": "code",
      "source": "",
      "metadata": {},
      "execution_count": null,
      "outputs": []
    }
  ]
}